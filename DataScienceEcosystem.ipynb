{
 "cells": [
  {
   "cell_type": "markdown",
   "id": "e52ddd90-c9ab-40ec-9825-3755c2c4138b",
   "metadata": {},
   "source": [
    "# Data Science Tools and Ecosystem\n"
   ]
  },
  {
   "cell_type": "markdown",
   "id": "23dc438b-e62b-4b07-8c44-f785499efab9",
   "metadata": {
    "tags": []
   },
   "source": [
    "\n",
    "\n",
    "In this notebook, we provide a comprehensive overview and summary of the Data Science Tools and Ecosystem, highlighting the key components and resources essential for the practice of data science.\n"
   ]
  },
  {
   "cell_type": "markdown",
   "id": "f90c66d7-f2c8-4c3d-9d03-d7d39311efae",
   "metadata": {
    "tags": []
   },
   "source": [
    "Some of the popular languages that Data Scientists use are:\n",
    "\n",
    "1. Python\n",
    "2. R\n",
    "3. Julia"
   ]
  },
  {
   "cell_type": "markdown",
   "id": "8646ee74-f979-4c5d-95f8-c108638b5ddd",
   "metadata": {
    "tags": []
   },
   "source": [
    "Some of the commonly used libraries used by Data Scientists include:\n",
    "\n",
    "1. NumPy\n",
    "2. Pandas\n",
    "3. Matplotlib\n",
    "\n",
    "\n",
    "\n",
    "\n",
    "\n",
    "\n"
   ]
  },
  {
   "cell_type": "markdown",
   "id": "d6c948dd-4ba3-4f3a-b81f-18280896f957",
   "metadata": {},
   "source": [
    "| Data Science Tools     |\n",
    "|------------------------|\n",
    "| Jupyter Notebook       |\n",
    "| RStudio                |\n",
    "| VS Code with Python    |"
   ]
  },
  {
   "cell_type": "markdown",
   "id": "dbefaa0c-b21b-4902-81b9-ca98c7a35278",
   "metadata": {
    "tags": []
   },
   "source": [
    "### Examples of Evaluating Arithmetic Expressions in Python\n",
    "\n",
    "In this section, we'll explore some basic examples of evaluating arithmetic expressions in Python. \n"
   ]
  },
  {
   "cell_type": "code",
   "execution_count": 5,
   "id": "9c39d937-e13d-48db-aa1c-7930dfe8fa91",
   "metadata": {
    "tags": []
   },
   "outputs": [
    {
     "data": {
      "text/plain": [
       "17"
      ]
     },
     "execution_count": 5,
     "metadata": {},
     "output_type": "execute_result"
    }
   ],
   "source": [
    "# This is a simple arithmetic expression to multiply and then add integers.\n",
    "result = 3 * 4 + 5\n",
    "result\n"
   ]
  },
  {
   "cell_type": "code",
   "execution_count": 6,
   "id": "98da64e1-4e6e-4cf9-87fa-7ee40f6d6c2d",
   "metadata": {
    "tags": []
   },
   "outputs": [
    {
     "data": {
      "text/plain": [
       "3.3333333333333335"
      ]
     },
     "execution_count": 6,
     "metadata": {},
     "output_type": "execute_result"
    }
   ],
   "source": [
    "# This will convert 200 minutes to hours by dividing by 60.\n",
    "minutes = 200\n",
    "hours = minutes / 60\n",
    "hours\n"
   ]
  },
  {
   "cell_type": "markdown",
   "id": "c3256f30-52d3-434c-a5d3-00bb0d3d2122",
   "metadata": {},
   "source": [
    "**Objectives:**\n",
    "\n",
    "- Popular languages for Data Science.\n",
    "- Introduce common libraries for in data science.\n",
    "- Introduction to basic arithmetic expression examples in Python.\n",
    "- Convert minutes to hours using Python expressions.\n",
    "- Author of the notebook.\n"
   ]
  },
  {
   "cell_type": "markdown",
   "id": "c7d33d02-4e75-4c09-bb62-4a0645e6c00a",
   "metadata": {
    "tags": []
   },
   "source": [
    "## Author\n",
    "\n",
    "Wayo Aondokuma"
   ]
  },
  {
   "cell_type": "code",
   "execution_count": null,
   "id": "9918f29a-1fa9-4979-b419-b02f28c77981",
   "metadata": {},
   "outputs": [],
   "source": []
  },
  {
   "cell_type": "code",
   "execution_count": null,
   "id": "c7c94f2d-8313-4f2c-9ad6-e01bc336d129",
   "metadata": {},
   "outputs": [],
   "source": []
  }
 ],
 "metadata": {
  "kernelspec": {
   "display_name": "Python",
   "language": "python",
   "name": "conda-env-python-py"
  },
  "language_info": {
   "codemirror_mode": {
    "name": "ipython",
    "version": 3
   },
   "file_extension": ".py",
   "mimetype": "text/x-python",
   "name": "python",
   "nbconvert_exporter": "python",
   "pygments_lexer": "ipython3",
   "version": "3.7.12"
  }
 },
 "nbformat": 4,
 "nbformat_minor": 5
}
